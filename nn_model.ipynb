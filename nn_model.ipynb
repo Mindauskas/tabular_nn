{
 "cells": [
  {
   "cell_type": "code",
   "execution_count": 76,
   "metadata": {},
   "outputs": [],
   "source": [
    "import pandas as pd\n",
    "import numpy as np\n",
    "import seaborn as sns\n",
    "import matplotlib.pyplot as plt\n",
    "from sklearn.ensemble import RandomForestClassifier\n",
    "from sklearn.model_selection import GridSearchCV, cross_val_score, RandomizedSearchCV, train_test_split\n",
    "from sklearn.preprocessing import LabelEncoder\n",
    "from sklearn.metrics import classification_report, confusion_matrix\n",
    "import tensorflow as tf"
   ]
  },
  {
   "cell_type": "markdown",
   "metadata": {},
   "source": [
    "# 1. Data"
   ]
  },
  {
   "cell_type": "code",
   "execution_count": 77,
   "metadata": {},
   "outputs": [],
   "source": [
    "df_train = pd.read_csv('train.csv')\n",
    "df_submission = pd.read_csv('test.csv')"
   ]
  },
  {
   "cell_type": "code",
   "execution_count": 78,
   "metadata": {},
   "outputs": [
    {
     "name": "stdout",
     "output_type": "stream",
     "text": [
      "Training data set shape: (891, 12), test dataset shape (418, 11)\n"
     ]
    }
   ],
   "source": [
    "print(f\"Training data set shape: {df_train.shape}, test dataset shape {df_submission.shape}\")"
   ]
  },
  {
   "cell_type": "code",
   "execution_count": 79,
   "metadata": {},
   "outputs": [
    {
     "data": {
      "text/html": [
       "<div>\n",
       "<style scoped>\n",
       "    .dataframe tbody tr th:only-of-type {\n",
       "        vertical-align: middle;\n",
       "    }\n",
       "\n",
       "    .dataframe tbody tr th {\n",
       "        vertical-align: top;\n",
       "    }\n",
       "\n",
       "    .dataframe thead th {\n",
       "        text-align: right;\n",
       "    }\n",
       "</style>\n",
       "<table border=\"1\" class=\"dataframe\">\n",
       "  <thead>\n",
       "    <tr style=\"text-align: right;\">\n",
       "      <th></th>\n",
       "      <th>0</th>\n",
       "      <th>1</th>\n",
       "      <th>2</th>\n",
       "      <th>3</th>\n",
       "      <th>4</th>\n",
       "    </tr>\n",
       "  </thead>\n",
       "  <tbody>\n",
       "    <tr>\n",
       "      <th>PassengerId</th>\n",
       "      <td>1</td>\n",
       "      <td>2</td>\n",
       "      <td>3</td>\n",
       "      <td>4</td>\n",
       "      <td>5</td>\n",
       "    </tr>\n",
       "    <tr>\n",
       "      <th>Survived</th>\n",
       "      <td>0</td>\n",
       "      <td>1</td>\n",
       "      <td>1</td>\n",
       "      <td>1</td>\n",
       "      <td>0</td>\n",
       "    </tr>\n",
       "    <tr>\n",
       "      <th>Pclass</th>\n",
       "      <td>3</td>\n",
       "      <td>1</td>\n",
       "      <td>3</td>\n",
       "      <td>1</td>\n",
       "      <td>3</td>\n",
       "    </tr>\n",
       "    <tr>\n",
       "      <th>Name</th>\n",
       "      <td>Braund, Mr. Owen Harris</td>\n",
       "      <td>Cumings, Mrs. John Bradley (Florence Briggs Th...</td>\n",
       "      <td>Heikkinen, Miss. Laina</td>\n",
       "      <td>Futrelle, Mrs. Jacques Heath (Lily May Peel)</td>\n",
       "      <td>Allen, Mr. William Henry</td>\n",
       "    </tr>\n",
       "    <tr>\n",
       "      <th>Sex</th>\n",
       "      <td>male</td>\n",
       "      <td>female</td>\n",
       "      <td>female</td>\n",
       "      <td>female</td>\n",
       "      <td>male</td>\n",
       "    </tr>\n",
       "    <tr>\n",
       "      <th>Age</th>\n",
       "      <td>22</td>\n",
       "      <td>38</td>\n",
       "      <td>26</td>\n",
       "      <td>35</td>\n",
       "      <td>35</td>\n",
       "    </tr>\n",
       "    <tr>\n",
       "      <th>SibSp</th>\n",
       "      <td>1</td>\n",
       "      <td>1</td>\n",
       "      <td>0</td>\n",
       "      <td>1</td>\n",
       "      <td>0</td>\n",
       "    </tr>\n",
       "    <tr>\n",
       "      <th>Parch</th>\n",
       "      <td>0</td>\n",
       "      <td>0</td>\n",
       "      <td>0</td>\n",
       "      <td>0</td>\n",
       "      <td>0</td>\n",
       "    </tr>\n",
       "    <tr>\n",
       "      <th>Ticket</th>\n",
       "      <td>A/5 21171</td>\n",
       "      <td>PC 17599</td>\n",
       "      <td>STON/O2. 3101282</td>\n",
       "      <td>113803</td>\n",
       "      <td>373450</td>\n",
       "    </tr>\n",
       "    <tr>\n",
       "      <th>Fare</th>\n",
       "      <td>7.25</td>\n",
       "      <td>71.2833</td>\n",
       "      <td>7.925</td>\n",
       "      <td>53.1</td>\n",
       "      <td>8.05</td>\n",
       "    </tr>\n",
       "    <tr>\n",
       "      <th>Cabin</th>\n",
       "      <td>NaN</td>\n",
       "      <td>C85</td>\n",
       "      <td>NaN</td>\n",
       "      <td>C123</td>\n",
       "      <td>NaN</td>\n",
       "    </tr>\n",
       "    <tr>\n",
       "      <th>Embarked</th>\n",
       "      <td>S</td>\n",
       "      <td>C</td>\n",
       "      <td>S</td>\n",
       "      <td>S</td>\n",
       "      <td>S</td>\n",
       "    </tr>\n",
       "  </tbody>\n",
       "</table>\n",
       "</div>"
      ],
      "text/plain": [
       "                                   0  \\\n",
       "PassengerId                        1   \n",
       "Survived                           0   \n",
       "Pclass                             3   \n",
       "Name         Braund, Mr. Owen Harris   \n",
       "Sex                             male   \n",
       "Age                               22   \n",
       "SibSp                              1   \n",
       "Parch                              0   \n",
       "Ticket                     A/5 21171   \n",
       "Fare                            7.25   \n",
       "Cabin                            NaN   \n",
       "Embarked                           S   \n",
       "\n",
       "                                                             1  \\\n",
       "PassengerId                                                  2   \n",
       "Survived                                                     1   \n",
       "Pclass                                                       1   \n",
       "Name         Cumings, Mrs. John Bradley (Florence Briggs Th...   \n",
       "Sex                                                     female   \n",
       "Age                                                         38   \n",
       "SibSp                                                        1   \n",
       "Parch                                                        0   \n",
       "Ticket                                                PC 17599   \n",
       "Fare                                                   71.2833   \n",
       "Cabin                                                      C85   \n",
       "Embarked                                                     C   \n",
       "\n",
       "                                  2  \\\n",
       "PassengerId                       3   \n",
       "Survived                          1   \n",
       "Pclass                            3   \n",
       "Name         Heikkinen, Miss. Laina   \n",
       "Sex                          female   \n",
       "Age                              26   \n",
       "SibSp                             0   \n",
       "Parch                             0   \n",
       "Ticket             STON/O2. 3101282   \n",
       "Fare                          7.925   \n",
       "Cabin                           NaN   \n",
       "Embarked                          S   \n",
       "\n",
       "                                                        3  \\\n",
       "PassengerId                                             4   \n",
       "Survived                                                1   \n",
       "Pclass                                                  1   \n",
       "Name         Futrelle, Mrs. Jacques Heath (Lily May Peel)   \n",
       "Sex                                                female   \n",
       "Age                                                    35   \n",
       "SibSp                                                   1   \n",
       "Parch                                                   0   \n",
       "Ticket                                             113803   \n",
       "Fare                                                 53.1   \n",
       "Cabin                                                C123   \n",
       "Embarked                                                S   \n",
       "\n",
       "                                    4  \n",
       "PassengerId                         5  \n",
       "Survived                            0  \n",
       "Pclass                              3  \n",
       "Name         Allen, Mr. William Henry  \n",
       "Sex                              male  \n",
       "Age                                35  \n",
       "SibSp                               0  \n",
       "Parch                               0  \n",
       "Ticket                         373450  \n",
       "Fare                             8.05  \n",
       "Cabin                             NaN  \n",
       "Embarked                            S  "
      ]
     },
     "execution_count": 79,
     "metadata": {},
     "output_type": "execute_result"
    }
   ],
   "source": [
    "df_train.head(5).T"
   ]
  },
  {
   "cell_type": "code",
   "execution_count": 80,
   "metadata": {},
   "outputs": [
    {
     "name": "stdout",
     "output_type": "stream",
     "text": [
      "<class 'pandas.core.frame.DataFrame'>\n",
      "RangeIndex: 891 entries, 0 to 890\n",
      "Data columns (total 12 columns):\n",
      "PassengerId    891 non-null int64\n",
      "Survived       891 non-null int64\n",
      "Pclass         891 non-null int64\n",
      "Name           891 non-null object\n",
      "Sex            891 non-null object\n",
      "Age            714 non-null float64\n",
      "SibSp          891 non-null int64\n",
      "Parch          891 non-null int64\n",
      "Ticket         891 non-null object\n",
      "Fare           891 non-null float64\n",
      "Cabin          204 non-null object\n",
      "Embarked       889 non-null object\n",
      "dtypes: float64(2), int64(5), object(5)\n",
      "memory usage: 83.7+ KB\n"
     ]
    }
   ],
   "source": [
    "df_train.info()"
   ]
  },
  {
   "cell_type": "code",
   "execution_count": 81,
   "metadata": {},
   "outputs": [
    {
     "name": "stdout",
     "output_type": "stream",
     "text": [
      "<class 'pandas.core.frame.DataFrame'>\n",
      "RangeIndex: 418 entries, 0 to 417\n",
      "Data columns (total 11 columns):\n",
      "PassengerId    418 non-null int64\n",
      "Pclass         418 non-null int64\n",
      "Name           418 non-null object\n",
      "Sex            418 non-null object\n",
      "Age            332 non-null float64\n",
      "SibSp          418 non-null int64\n",
      "Parch          418 non-null int64\n",
      "Ticket         418 non-null object\n",
      "Fare           417 non-null float64\n",
      "Cabin          91 non-null object\n",
      "Embarked       418 non-null object\n",
      "dtypes: float64(2), int64(4), object(5)\n",
      "memory usage: 36.0+ KB\n"
     ]
    }
   ],
   "source": [
    "df_submission.info()"
   ]
  },
  {
   "cell_type": "markdown",
   "metadata": {},
   "source": [
    "Let's fill NA with values:"
   ]
  },
  {
   "cell_type": "code",
   "execution_count": 82,
   "metadata": {},
   "outputs": [],
   "source": [
    "df_train.Age.fillna(df_train.Age.median(), inplace=True)\n",
    "df_submission.Age.fillna(df_submission.Age.median(), inplace=True)\n",
    "df_train.Cabin.fillna('XX_unknown', inplace=True)\n",
    "df_submission.Cabin.fillna('XX_unknown', inplace=True)\n",
    "df_train.Embarked.fillna(df_train.Embarked.mode()[0], inplace=True)\n",
    "df_submission.Embarked.fillna(df_submission.Embarked.mode()[0], inplace=True)\n",
    "df_submission.Fare.fillna(df_submission.Fare.median(), inplace=True)"
   ]
  },
  {
   "cell_type": "code",
   "execution_count": 83,
   "metadata": {},
   "outputs": [
    {
     "name": "stdout",
     "output_type": "stream",
     "text": [
      "<class 'pandas.core.frame.DataFrame'>\n",
      "RangeIndex: 891 entries, 0 to 890\n",
      "Data columns (total 12 columns):\n",
      "PassengerId    891 non-null int64\n",
      "Survived       891 non-null int64\n",
      "Pclass         891 non-null int64\n",
      "Name           891 non-null object\n",
      "Sex            891 non-null object\n",
      "Age            891 non-null float64\n",
      "SibSp          891 non-null int64\n",
      "Parch          891 non-null int64\n",
      "Ticket         891 non-null object\n",
      "Fare           891 non-null float64\n",
      "Cabin          891 non-null object\n",
      "Embarked       891 non-null object\n",
      "dtypes: float64(2), int64(5), object(5)\n",
      "memory usage: 83.7+ KB\n"
     ]
    }
   ],
   "source": [
    "df_train.info()"
   ]
  },
  {
   "cell_type": "markdown",
   "metadata": {},
   "source": [
    "#### Some features, visualize, drop unused cols, etc."
   ]
  },
  {
   "cell_type": "code",
   "execution_count": 84,
   "metadata": {},
   "outputs": [],
   "source": [
    "df_train['Name_length'] = df_train.Name.str.len()\n",
    "df_submission['Name_length'] = df_submission.Name.str.len()\n",
    "df_train['Cabin_letter'] = df_train.Cabin.str[0]\n",
    "df_submission['Cabin_letter'] = df_submission.Cabin.str[0]"
   ]
  },
  {
   "cell_type": "code",
   "execution_count": 85,
   "metadata": {},
   "outputs": [],
   "source": [
    "df_train.drop('Ticket', axis=1, inplace=True)\n",
    "df_submission.drop('Ticket', axis=1, inplace=True)\n",
    "df_train.drop('PassengerId', axis=1, inplace=True)\n",
    "#df_submission.drop('PassengerId', axis=1, inplace=True)\n",
    "df_train.drop('Name', axis=1, inplace=True)\n",
    "df_submission.drop('Name', axis=1, inplace=True)\n",
    "#df_train.drop('Cabin', axis=1, inplace=True)\n",
    "#df_submission.drop('Cabin', axis=1, inplace=True)"
   ]
  },
  {
   "cell_type": "code",
   "execution_count": 86,
   "metadata": {},
   "outputs": [
    {
     "data": {
      "text/html": [
       "<div>\n",
       "<style scoped>\n",
       "    .dataframe tbody tr th:only-of-type {\n",
       "        vertical-align: middle;\n",
       "    }\n",
       "\n",
       "    .dataframe tbody tr th {\n",
       "        vertical-align: top;\n",
       "    }\n",
       "\n",
       "    .dataframe thead th {\n",
       "        text-align: right;\n",
       "    }\n",
       "</style>\n",
       "<table border=\"1\" class=\"dataframe\">\n",
       "  <thead>\n",
       "    <tr style=\"text-align: right;\">\n",
       "      <th></th>\n",
       "      <th>0</th>\n",
       "      <th>1</th>\n",
       "      <th>2</th>\n",
       "      <th>3</th>\n",
       "      <th>4</th>\n",
       "    </tr>\n",
       "  </thead>\n",
       "  <tbody>\n",
       "    <tr>\n",
       "      <th>Survived</th>\n",
       "      <td>0</td>\n",
       "      <td>1</td>\n",
       "      <td>1</td>\n",
       "      <td>1</td>\n",
       "      <td>0</td>\n",
       "    </tr>\n",
       "    <tr>\n",
       "      <th>Pclass</th>\n",
       "      <td>3</td>\n",
       "      <td>1</td>\n",
       "      <td>3</td>\n",
       "      <td>1</td>\n",
       "      <td>3</td>\n",
       "    </tr>\n",
       "    <tr>\n",
       "      <th>Sex</th>\n",
       "      <td>male</td>\n",
       "      <td>female</td>\n",
       "      <td>female</td>\n",
       "      <td>female</td>\n",
       "      <td>male</td>\n",
       "    </tr>\n",
       "    <tr>\n",
       "      <th>Age</th>\n",
       "      <td>22</td>\n",
       "      <td>38</td>\n",
       "      <td>26</td>\n",
       "      <td>35</td>\n",
       "      <td>35</td>\n",
       "    </tr>\n",
       "    <tr>\n",
       "      <th>SibSp</th>\n",
       "      <td>1</td>\n",
       "      <td>1</td>\n",
       "      <td>0</td>\n",
       "      <td>1</td>\n",
       "      <td>0</td>\n",
       "    </tr>\n",
       "    <tr>\n",
       "      <th>Parch</th>\n",
       "      <td>0</td>\n",
       "      <td>0</td>\n",
       "      <td>0</td>\n",
       "      <td>0</td>\n",
       "      <td>0</td>\n",
       "    </tr>\n",
       "    <tr>\n",
       "      <th>Fare</th>\n",
       "      <td>7.25</td>\n",
       "      <td>71.2833</td>\n",
       "      <td>7.925</td>\n",
       "      <td>53.1</td>\n",
       "      <td>8.05</td>\n",
       "    </tr>\n",
       "    <tr>\n",
       "      <th>Cabin</th>\n",
       "      <td>XX_unknown</td>\n",
       "      <td>C85</td>\n",
       "      <td>XX_unknown</td>\n",
       "      <td>C123</td>\n",
       "      <td>XX_unknown</td>\n",
       "    </tr>\n",
       "    <tr>\n",
       "      <th>Embarked</th>\n",
       "      <td>S</td>\n",
       "      <td>C</td>\n",
       "      <td>S</td>\n",
       "      <td>S</td>\n",
       "      <td>S</td>\n",
       "    </tr>\n",
       "    <tr>\n",
       "      <th>Name_length</th>\n",
       "      <td>23</td>\n",
       "      <td>51</td>\n",
       "      <td>22</td>\n",
       "      <td>44</td>\n",
       "      <td>24</td>\n",
       "    </tr>\n",
       "    <tr>\n",
       "      <th>Cabin_letter</th>\n",
       "      <td>X</td>\n",
       "      <td>C</td>\n",
       "      <td>X</td>\n",
       "      <td>C</td>\n",
       "      <td>X</td>\n",
       "    </tr>\n",
       "  </tbody>\n",
       "</table>\n",
       "</div>"
      ],
      "text/plain": [
       "                       0        1           2       3           4\n",
       "Survived               0        1           1       1           0\n",
       "Pclass                 3        1           3       1           3\n",
       "Sex                 male   female      female  female        male\n",
       "Age                   22       38          26      35          35\n",
       "SibSp                  1        1           0       1           0\n",
       "Parch                  0        0           0       0           0\n",
       "Fare                7.25  71.2833       7.925    53.1        8.05\n",
       "Cabin         XX_unknown      C85  XX_unknown    C123  XX_unknown\n",
       "Embarked               S        C           S       S           S\n",
       "Name_length           23       51          22      44          24\n",
       "Cabin_letter           X        C           X       C           X"
      ]
     },
     "execution_count": 86,
     "metadata": {},
     "output_type": "execute_result"
    }
   ],
   "source": [
    "df_train.head(5).T"
   ]
  },
  {
   "cell_type": "code",
   "execution_count": 87,
   "metadata": {},
   "outputs": [],
   "source": [
    "df_train_label_enc = df_train.copy()\n",
    "df_sub_label_enc = df_submission.copy()\n",
    "df_train_label_enc.drop('Cabin', axis=1, inplace=True)\n",
    "df_sub_label_enc.drop('Cabin', axis=1, inplace=True)\n",
    "labelencoder = LabelEncoder()\n",
    "df_train_label_enc.Sex = labelencoder.fit_transform(df_train_label_enc.Sex)\n",
    "df_sub_label_enc.Sex = labelencoder.transform(df_sub_label_enc.Sex)\n",
    "df_train_label_enc.Embarked = labelencoder.fit_transform(df_train_label_enc.Embarked)\n",
    "df_sub_label_enc.Embarked = labelencoder.transform(df_sub_label_enc.Embarked)\n",
    "df_train_label_enc.Cabin_letter = labelencoder.fit_transform(df_train_label_enc.Cabin_letter)\n",
    "df_sub_label_enc.Cabin_letter = labelencoder.transform(df_sub_label_enc.Cabin_letter)"
   ]
  },
  {
   "cell_type": "code",
   "execution_count": 88,
   "metadata": {},
   "outputs": [
    {
     "data": {
      "text/plain": [
       "Survived\n",
       "0    AxesSubplot(0.125,0.125;0.775x0.755)\n",
       "1    AxesSubplot(0.125,0.125;0.775x0.755)\n",
       "Name: Age, dtype: object"
      ]
     },
     "execution_count": 88,
     "metadata": {},
     "output_type": "execute_result"
    },
    {
     "data": {
      "image/png": "[encoded data removed]",
      "text/plain": [
       "<Figure size 432x288 with 1 Axes>"
      ]
     },
     "metadata": {},
     "output_type": "display_data"
    }
   ],
   "source": [
    "df_train_label_enc.groupby('Survived').Age.plot(kind='kde', legend=True)"
   ]
  },
  {
   "cell_type": "code",
   "execution_count": 89,
   "metadata": {},
   "outputs": [],
   "source": [
    "train_data_enc, test_data_enc, train_labels_enc, test_labels_enc = train_test_split(\n",
    "    df_train_label_enc.drop('Survived', axis=1, inplace=False), \n",
    "    df_train_label_enc.Survived, \n",
    "    test_size=0.25)"
   ]
  },
  {
   "cell_type": "markdown",
   "metadata": {},
   "source": [
    "### RF as a benchmark "
   ]
  },
  {
   "cell_type": "code",
   "execution_count": 90,
   "metadata": {},
   "outputs": [],
   "source": [
    "rfc = RandomizedSearchCV(\n",
    "    estimator=RandomForestClassifier(),\n",
    "    param_distributions={\n",
    "        'n_estimators': np.arange(100, 200, 20),\n",
    "        'max_features': ['sqrt', 'log2'],\n",
    "        'min_samples_leaf': np.arange(1, 20),\n",
    "        'max_depth': np.arange(1, 15),\n",
    "    },\n",
    "    n_iter=50,\n",
    "    n_jobs=-1,\n",
    "    cv=5,\n",
    "    verbose=1,\n",
    ")"
   ]
  },
  {
   "cell_type": "code",
   "execution_count": 91,
   "metadata": {},
   "outputs": [
    {
     "name": "stdout",
     "output_type": "stream",
     "text": [
      "Fitting 5 folds for each of 50 candidates, totalling 250 fits\n"
     ]
    },
    {
     "name": "stderr",
     "output_type": "stream",
     "text": [
      "[Parallel(n_jobs=-1)]: Using backend LokyBackend with 4 concurrent workers.\n",
      "[Parallel(n_jobs=-1)]: Done  42 tasks      | elapsed:   12.0s\n",
      "[Parallel(n_jobs=-1)]: Done 192 tasks      | elapsed:   52.0s\n",
      "[Parallel(n_jobs=-1)]: Done 250 out of 250 | elapsed:  1.1min finished\n"
     ]
    },
    {
     "data": {
      "text/plain": [
       "RandomizedSearchCV(cv=5, error_score='raise-deprecating',\n",
       "                   estimator=RandomForestClassifier(bootstrap=True,\n",
       "                                                    class_weight=None,\n",
       "                                                    criterion='gini',\n",
       "                                                    max_depth=None,\n",
       "                                                    max_features='auto',\n",
       "                                                    max_leaf_nodes=None,\n",
       "                                                    min_impurity_decrease=0.0,\n",
       "                                                    min_impurity_split=None,\n",
       "                                                    min_samples_leaf=1,\n",
       "                                                    min_samples_split=2,\n",
       "                                                    min_weight_fraction_leaf=0.0,\n",
       "                                                    n_estimators='warn',\n",
       "                                                    n_jobs=None,\n",
       "                                                    oob_sc...\n",
       "                   iid='warn', n_iter=50, n_jobs=-1,\n",
       "                   param_distributions={'max_depth': array([ 1,  2,  3,  4,  5,  6,  7,  8,  9, 10, 11, 12, 13, 14]),\n",
       "                                        'max_features': ['sqrt', 'log2'],\n",
       "                                        'min_samples_leaf': array([ 1,  2,  3,  4,  5,  6,  7,  8,  9, 10, 11, 12, 13, 14, 15, 16, 17,\n",
       "       18, 19]),\n",
       "                                        'n_estimators': array([100, 120, 140, 160, 180])},\n",
       "                   pre_dispatch='2*n_jobs', random_state=None, refit=True,\n",
       "                   return_train_score=False, scoring=None, verbose=1)"
      ]
     },
     "execution_count": 91,
     "metadata": {},
     "output_type": "execute_result"
    }
   ],
   "source": [
    "rfc.fit(train_data_enc, train_labels_enc)"
   ]
  },
  {
   "cell_type": "code",
   "execution_count": 92,
   "metadata": {},
   "outputs": [
    {
     "data": {
      "text/plain": [
       "{'max_depth': 6,\n",
       " 'max_features': 'log2',\n",
       " 'min_samples_leaf': 1,\n",
       " 'n_estimators': 180}"
      ]
     },
     "execution_count": 92,
     "metadata": {},
     "output_type": "execute_result"
    }
   ],
   "source": [
    "rfc.best_params_"
   ]
  },
  {
   "cell_type": "code",
   "execution_count": 93,
   "metadata": {},
   "outputs": [
    {
     "data": {
      "text/plain": [
       "0.811377245508982"
      ]
     },
     "execution_count": 93,
     "metadata": {},
     "output_type": "execute_result"
    }
   ],
   "source": [
    "rfc.best_score_"
   ]
  },
  {
   "cell_type": "code",
   "execution_count": 94,
   "metadata": {},
   "outputs": [],
   "source": [
    "rfc_test_enc_preds = rfc.predict(test_data_enc)"
   ]
  },
  {
   "cell_type": "code",
   "execution_count": 95,
   "metadata": {},
   "outputs": [
    {
     "name": "stdout",
     "output_type": "stream",
     "text": [
      "[[133  15]\n",
      " [ 21  54]]\n"
     ]
    }
   ],
   "source": [
    "print(confusion_matrix(test_labels_enc, rfc_test_enc_preds))"
   ]
  },
  {
   "cell_type": "code",
   "execution_count": 96,
   "metadata": {},
   "outputs": [
    {
     "name": "stdout",
     "output_type": "stream",
     "text": [
      "              precision    recall  f1-score   support\n",
      "\n",
      "           0       0.86      0.90      0.88       148\n",
      "           1       0.78      0.72      0.75        75\n",
      "\n",
      "    accuracy                           0.84       223\n",
      "   macro avg       0.82      0.81      0.82       223\n",
      "weighted avg       0.84      0.84      0.84       223\n",
      "\n"
     ]
    }
   ],
   "source": [
    "print(classification_report(test_labels_enc, rfc_test_enc_preds))"
   ]
  },
  {
   "cell_type": "markdown",
   "metadata": {},
   "source": [
    "## NN"
   ]
  },
  {
   "cell_type": "code",
   "execution_count": 97,
   "metadata": {},
   "outputs": [],
   "source": [
    "train_data_nn, test_data_nn, train_labels_nn, test_labels_nn = train_test_split(\n",
    "    df_train.drop('Survived', axis=1, inplace=False), \n",
    "    df_train.Survived, \n",
    "    test_size=0.25)"
   ]
  },
  {
   "cell_type": "code",
   "execution_count": 98,
   "metadata": {},
   "outputs": [
    {
     "data": {
      "text/html": [
       "<div>\n",
       "<style scoped>\n",
       "    .dataframe tbody tr th:only-of-type {\n",
       "        vertical-align: middle;\n",
       "    }\n",
       "\n",
       "    .dataframe tbody tr th {\n",
       "        vertical-align: top;\n",
       "    }\n",
       "\n",
       "    .dataframe thead th {\n",
       "        text-align: right;\n",
       "    }\n",
       "</style>\n",
       "<table border=\"1\" class=\"dataframe\">\n",
       "  <thead>\n",
       "    <tr style=\"text-align: right;\">\n",
       "      <th></th>\n",
       "      <th>Pclass</th>\n",
       "      <th>Sex</th>\n",
       "      <th>Age</th>\n",
       "      <th>SibSp</th>\n",
       "      <th>Parch</th>\n",
       "      <th>Fare</th>\n",
       "      <th>Cabin</th>\n",
       "      <th>Embarked</th>\n",
       "      <th>Name_length</th>\n",
       "      <th>Cabin_letter</th>\n",
       "    </tr>\n",
       "  </thead>\n",
       "  <tbody>\n",
       "    <tr>\n",
       "      <th>348</th>\n",
       "      <td>3</td>\n",
       "      <td>male</td>\n",
       "      <td>3.0</td>\n",
       "      <td>1</td>\n",
       "      <td>1</td>\n",
       "      <td>15.9000</td>\n",
       "      <td>XX_unknown</td>\n",
       "      <td>S</td>\n",
       "      <td>38</td>\n",
       "      <td>X</td>\n",
       "    </tr>\n",
       "    <tr>\n",
       "      <th>717</th>\n",
       "      <td>2</td>\n",
       "      <td>female</td>\n",
       "      <td>27.0</td>\n",
       "      <td>0</td>\n",
       "      <td>0</td>\n",
       "      <td>10.5000</td>\n",
       "      <td>E101</td>\n",
       "      <td>S</td>\n",
       "      <td>35</td>\n",
       "      <td>E</td>\n",
       "    </tr>\n",
       "    <tr>\n",
       "      <th>556</th>\n",
       "      <td>1</td>\n",
       "      <td>female</td>\n",
       "      <td>48.0</td>\n",
       "      <td>1</td>\n",
       "      <td>0</td>\n",
       "      <td>39.6000</td>\n",
       "      <td>A16</td>\n",
       "      <td>C</td>\n",
       "      <td>65</td>\n",
       "      <td>A</td>\n",
       "    </tr>\n",
       "    <tr>\n",
       "      <th>726</th>\n",
       "      <td>2</td>\n",
       "      <td>female</td>\n",
       "      <td>30.0</td>\n",
       "      <td>3</td>\n",
       "      <td>0</td>\n",
       "      <td>21.0000</td>\n",
       "      <td>XX_unknown</td>\n",
       "      <td>S</td>\n",
       "      <td>43</td>\n",
       "      <td>X</td>\n",
       "    </tr>\n",
       "    <tr>\n",
       "      <th>765</th>\n",
       "      <td>1</td>\n",
       "      <td>female</td>\n",
       "      <td>51.0</td>\n",
       "      <td>1</td>\n",
       "      <td>0</td>\n",
       "      <td>77.9583</td>\n",
       "      <td>D11</td>\n",
       "      <td>S</td>\n",
       "      <td>36</td>\n",
       "      <td>D</td>\n",
       "    </tr>\n",
       "  </tbody>\n",
       "</table>\n",
       "</div>"
      ],
      "text/plain": [
       "     Pclass     Sex   Age  SibSp  Parch     Fare       Cabin Embarked  \\\n",
       "348       3    male   3.0      1      1  15.9000  XX_unknown        S   \n",
       "717       2  female  27.0      0      0  10.5000        E101        S   \n",
       "556       1  female  48.0      1      0  39.6000         A16        C   \n",
       "726       2  female  30.0      3      0  21.0000  XX_unknown        S   \n",
       "765       1  female  51.0      1      0  77.9583         D11        S   \n",
       "\n",
       "     Name_length Cabin_letter  \n",
       "348           38            X  \n",
       "717           35            E  \n",
       "556           65            A  \n",
       "726           43            X  \n",
       "765           36            D  "
      ]
     },
     "execution_count": 98,
     "metadata": {},
     "output_type": "execute_result"
    }
   ],
   "source": [
    "train_data_nn.head(5)"
   ]
  },
  {
   "cell_type": "code",
   "execution_count": 99,
   "metadata": {},
   "outputs": [],
   "source": [
    "cat_cols = [\n",
    "    'Pclass',\n",
    "    'Sex',\n",
    "    'Cabin',\n",
    "    'Embarked',\n",
    "    'Cabin_letter'\n",
    "]"
   ]
  },
  {
   "cell_type": "code",
   "execution_count": 100,
   "metadata": {},
   "outputs": [],
   "source": [
    "cont_cols = [\n",
    "    'Age',\n",
    "    'SibSp',\n",
    "    'Parch',\n",
    "    'Fare',\n",
    "    'Name_length'\n",
    "]"
   ]
  },
  {
   "cell_type": "code",
   "execution_count": 101,
   "metadata": {},
   "outputs": [],
   "source": [
    "def cats_fit_transform(df, cat_cols):\n",
    "    df = df.copy()\n",
    "    cat_features_map = {}\n",
    "    df[cat_cols] = df[cat_cols].astype(\"category\")\n",
    "    for cat_col in cat_cols:\n",
    "        cat_features_map[cat_col] = dict(enumerate(df[cat_col].cat.categories, start=1))\n",
    "        df[cat_col] = df[cat_col].cat.codes + 1\n",
    "    return df, cat_features_map"
   ]
  },
  {
   "cell_type": "code",
   "execution_count": 102,
   "metadata": {},
   "outputs": [],
   "source": [
    "def cats_transform(df, cat_features_map):\n",
    "    df = df.copy()\n",
    "    for cat_col in cat_features_map:\n",
    "        df[cat_col] = df[cat_col].map(\n",
    "            {value: key for key, value in cat_features_map[cat_col].items()}\n",
    "        )\n",
    "        df[cat_col].fillna(value=0, inplace=True)\n",
    "        df[cat_col] = df[cat_col].astype(int)\n",
    "    return df"
   ]
  },
  {
   "cell_type": "code",
   "execution_count": 103,
   "metadata": {},
   "outputs": [],
   "source": [
    "def conts_fit_transform(df, cont_cols):\n",
    "    df = df.copy()\n",
    "    cont_features_map = {}\n",
    "    df[cont_cols] = df[cont_cols].astype(float)\n",
    "    for cont_col in cont_cols:\n",
    "        cont_features_map[cont_col] = {\n",
    "            \"mean\": df[cont_col].mean(),\n",
    "            \"std\": df[cont_col].std(),\n",
    "        }\n",
    "        df[cont_col] = (\n",
    "            df[cont_col] - cont_features_map[cont_col][\"mean\"]\n",
    "        ) / cont_features_map[cont_col][\"std\"]\n",
    "    return df, cont_features_map"
   ]
  },
  {
   "cell_type": "code",
   "execution_count": 104,
   "metadata": {},
   "outputs": [],
   "source": [
    "def conts_transform(df, cont_features_map):\n",
    "    df = df.copy()\n",
    "    for cont_col in cont_features_map:\n",
    "        df[cont_col] = (\n",
    "            df[cont_col] - cont_features_map[cont_col][\"mean\"]\n",
    "        ) / cont_features_map[cont_col][\"std\"]\n",
    "    return df"
   ]
  },
  {
   "cell_type": "code",
   "execution_count": 105,
   "metadata": {},
   "outputs": [],
   "source": [
    "train_data_nn, cat_features_map = cats_fit_transform(train_data_nn, cat_cols)"
   ]
  },
  {
   "cell_type": "code",
   "execution_count": 106,
   "metadata": {},
   "outputs": [
    {
     "data": {
      "text/html": [
       "<div>\n",
       "<style scoped>\n",
       "    .dataframe tbody tr th:only-of-type {\n",
       "        vertical-align: middle;\n",
       "    }\n",
       "\n",
       "    .dataframe tbody tr th {\n",
       "        vertical-align: top;\n",
       "    }\n",
       "\n",
       "    .dataframe thead th {\n",
       "        text-align: right;\n",
       "    }\n",
       "</style>\n",
       "<table border=\"1\" class=\"dataframe\">\n",
       "  <thead>\n",
       "    <tr style=\"text-align: right;\">\n",
       "      <th></th>\n",
       "      <th>Pclass</th>\n",
       "      <th>Sex</th>\n",
       "      <th>Age</th>\n",
       "      <th>SibSp</th>\n",
       "      <th>Parch</th>\n",
       "      <th>Fare</th>\n",
       "      <th>Cabin</th>\n",
       "      <th>Embarked</th>\n",
       "      <th>Name_length</th>\n",
       "      <th>Cabin_letter</th>\n",
       "    </tr>\n",
       "  </thead>\n",
       "  <tbody>\n",
       "    <tr>\n",
       "      <th>348</th>\n",
       "      <td>3</td>\n",
       "      <td>2</td>\n",
       "      <td>3.0</td>\n",
       "      <td>1</td>\n",
       "      <td>1</td>\n",
       "      <td>15.9000</td>\n",
       "      <td>120</td>\n",
       "      <td>3</td>\n",
       "      <td>38</td>\n",
       "      <td>9</td>\n",
       "    </tr>\n",
       "    <tr>\n",
       "      <th>717</th>\n",
       "      <td>2</td>\n",
       "      <td>1</td>\n",
       "      <td>27.0</td>\n",
       "      <td>0</td>\n",
       "      <td>0</td>\n",
       "      <td>10.5000</td>\n",
       "      <td>94</td>\n",
       "      <td>3</td>\n",
       "      <td>35</td>\n",
       "      <td>5</td>\n",
       "    </tr>\n",
       "    <tr>\n",
       "      <th>556</th>\n",
       "      <td>1</td>\n",
       "      <td>1</td>\n",
       "      <td>48.0</td>\n",
       "      <td>1</td>\n",
       "      <td>0</td>\n",
       "      <td>39.6000</td>\n",
       "      <td>2</td>\n",
       "      <td>1</td>\n",
       "      <td>65</td>\n",
       "      <td>1</td>\n",
       "    </tr>\n",
       "    <tr>\n",
       "      <th>726</th>\n",
       "      <td>2</td>\n",
       "      <td>1</td>\n",
       "      <td>30.0</td>\n",
       "      <td>3</td>\n",
       "      <td>0</td>\n",
       "      <td>21.0000</td>\n",
       "      <td>120</td>\n",
       "      <td>3</td>\n",
       "      <td>43</td>\n",
       "      <td>9</td>\n",
       "    </tr>\n",
       "    <tr>\n",
       "      <th>765</th>\n",
       "      <td>1</td>\n",
       "      <td>1</td>\n",
       "      <td>51.0</td>\n",
       "      <td>1</td>\n",
       "      <td>0</td>\n",
       "      <td>77.9583</td>\n",
       "      <td>75</td>\n",
       "      <td>3</td>\n",
       "      <td>36</td>\n",
       "      <td>4</td>\n",
       "    </tr>\n",
       "  </tbody>\n",
       "</table>\n",
       "</div>"
      ],
      "text/plain": [
       "     Pclass  Sex   Age  SibSp  Parch     Fare  Cabin  Embarked  Name_length  \\\n",
       "348       3    2   3.0      1      1  15.9000    120         3           38   \n",
       "717       2    1  27.0      0      0  10.5000     94         3           35   \n",
       "556       1    1  48.0      1      0  39.6000      2         1           65   \n",
       "726       2    1  30.0      3      0  21.0000    120         3           43   \n",
       "765       1    1  51.0      1      0  77.9583     75         3           36   \n",
       "\n",
       "     Cabin_letter  \n",
       "348             9  \n",
       "717             5  \n",
       "556             1  \n",
       "726             9  \n",
       "765             4  "
      ]
     },
     "execution_count": 106,
     "metadata": {},
     "output_type": "execute_result"
    }
   ],
   "source": [
    "train_data_nn.head(5)"
   ]
  },
  {
   "cell_type": "code",
   "execution_count": 107,
   "metadata": {},
   "outputs": [],
   "source": [
    "train_data_nn, cont_features_map = conts_fit_transform(train_data_nn, cont_cols)"
   ]
  },
  {
   "cell_type": "code",
   "execution_count": 108,
   "metadata": {},
   "outputs": [
    {
     "data": {
      "text/html": [
       "<div>\n",
       "<style scoped>\n",
       "    .dataframe tbody tr th:only-of-type {\n",
       "        vertical-align: middle;\n",
       "    }\n",
       "\n",
       "    .dataframe tbody tr th {\n",
       "        vertical-align: top;\n",
       "    }\n",
       "\n",
       "    .dataframe thead th {\n",
       "        text-align: right;\n",
       "    }\n",
       "</style>\n",
       "<table border=\"1\" class=\"dataframe\">\n",
       "  <thead>\n",
       "    <tr style=\"text-align: right;\">\n",
       "      <th></th>\n",
       "      <th>Pclass</th>\n",
       "      <th>Sex</th>\n",
       "      <th>Age</th>\n",
       "      <th>SibSp</th>\n",
       "      <th>Parch</th>\n",
       "      <th>Fare</th>\n",
       "      <th>Cabin</th>\n",
       "      <th>Embarked</th>\n",
       "      <th>Name_length</th>\n",
       "      <th>Cabin_letter</th>\n",
       "    </tr>\n",
       "  </thead>\n",
       "  <tbody>\n",
       "    <tr>\n",
       "      <th>348</th>\n",
       "      <td>3</td>\n",
       "      <td>2</td>\n",
       "      <td>-2.074901</td>\n",
       "      <td>0.403932</td>\n",
       "      <td>0.795549</td>\n",
       "      <td>-0.321264</td>\n",
       "      <td>120</td>\n",
       "      <td>3</td>\n",
       "      <td>1.121487</td>\n",
       "      <td>9</td>\n",
       "    </tr>\n",
       "    <tr>\n",
       "      <th>717</th>\n",
       "      <td>2</td>\n",
       "      <td>1</td>\n",
       "      <td>-0.222766</td>\n",
       "      <td>-0.477854</td>\n",
       "      <td>-0.478856</td>\n",
       "      <td>-0.436721</td>\n",
       "      <td>94</td>\n",
       "      <td>3</td>\n",
       "      <td>0.806320</td>\n",
       "      <td>5</td>\n",
       "    </tr>\n",
       "    <tr>\n",
       "      <th>556</th>\n",
       "      <td>1</td>\n",
       "      <td>1</td>\n",
       "      <td>1.397853</td>\n",
       "      <td>0.403932</td>\n",
       "      <td>-0.478856</td>\n",
       "      <td>0.185462</td>\n",
       "      <td>2</td>\n",
       "      <td>1</td>\n",
       "      <td>3.957997</td>\n",
       "      <td>1</td>\n",
       "    </tr>\n",
       "    <tr>\n",
       "      <th>726</th>\n",
       "      <td>2</td>\n",
       "      <td>1</td>\n",
       "      <td>0.008751</td>\n",
       "      <td>2.167504</td>\n",
       "      <td>-0.478856</td>\n",
       "      <td>-0.212222</td>\n",
       "      <td>120</td>\n",
       "      <td>3</td>\n",
       "      <td>1.646767</td>\n",
       "      <td>9</td>\n",
       "    </tr>\n",
       "    <tr>\n",
       "      <th>765</th>\n",
       "      <td>1</td>\n",
       "      <td>1</td>\n",
       "      <td>1.629370</td>\n",
       "      <td>0.403932</td>\n",
       "      <td>-0.478856</td>\n",
       "      <td>1.005594</td>\n",
       "      <td>75</td>\n",
       "      <td>3</td>\n",
       "      <td>0.911376</td>\n",
       "      <td>4</td>\n",
       "    </tr>\n",
       "  </tbody>\n",
       "</table>\n",
       "</div>"
      ],
      "text/plain": [
       "     Pclass  Sex       Age     SibSp     Parch      Fare  Cabin  Embarked  \\\n",
       "348       3    2 -2.074901  0.403932  0.795549 -0.321264    120         3   \n",
       "717       2    1 -0.222766 -0.477854 -0.478856 -0.436721     94         3   \n",
       "556       1    1  1.397853  0.403932 -0.478856  0.185462      2         1   \n",
       "726       2    1  0.008751  2.167504 -0.478856 -0.212222    120         3   \n",
       "765       1    1  1.629370  0.403932 -0.478856  1.005594     75         3   \n",
       "\n",
       "     Name_length  Cabin_letter  \n",
       "348     1.121487             9  \n",
       "717     0.806320             5  \n",
       "556     3.957997             1  \n",
       "726     1.646767             9  \n",
       "765     0.911376             4  "
      ]
     },
     "execution_count": 108,
     "metadata": {},
     "output_type": "execute_result"
    }
   ],
   "source": [
    "train_data_nn.head(5)"
   ]
  },
  {
   "cell_type": "code",
   "execution_count": 109,
   "metadata": {},
   "outputs": [],
   "source": [
    "test_data_nn = conts_transform(test_data_nn, cont_features_map)"
   ]
  },
  {
   "cell_type": "code",
   "execution_count": 110,
   "metadata": {},
   "outputs": [],
   "source": [
    "test_data_nn = cats_transform(test_data_nn, cat_features_map)"
   ]
  },
  {
   "cell_type": "code",
   "execution_count": 111,
   "metadata": {},
   "outputs": [],
   "source": [
    "cat_feature_dims = {cat_col: len(np.unique(train_data_nn[cat_col])) + 2 for cat_col in cat_cols}"
   ]
  },
  {
   "cell_type": "code",
   "execution_count": 112,
   "metadata": {},
   "outputs": [],
   "source": [
    "def make_embedding_model(\n",
    "    cat_feature_dims,\n",
    "    n_cont_features,\n",
    "    n_classes,\n",
    "    layer_size,\n",
    "    dropout_rate=0.0,\n",
    "    n_layers=1,\n",
    "    regularization=None,\n",
    "    batch_norm=True,\n",
    "):\n",
    "    inputs = []\n",
    "    embeddings = []\n",
    "    \n",
    "    for cat_feature_dim in cat_feature_dims.values():\n",
    "        x = tf.keras.layers.Input(shape=(1,))\n",
    "        inputs.append(x)\n",
    "        x = tf.keras.layers.Embedding(\n",
    "            cat_feature_dim,\n",
    "            np.sqrt(cat_feature_dim).astype(int) + 1,\n",
    "            input_length=1,\n",
    "            embeddings_regularizer=tf.keras.regularizers.l1_l2(1e-2, 1e-2),\n",
    "        )(x)\n",
    "        x = tf.keras.layers.Flatten()(x)\n",
    "        embeddings.append(x)\n",
    "        \n",
    "    cont_inputs = tf.keras.layers.Input(shape=(n_cont_features,))\n",
    "    inputs.append(cont_inputs)\n",
    "    embeddings.append(cont_inputs)\n",
    "    \n",
    "    x = tf.keras.layers.Concatenate()(embeddings)\n",
    "        \n",
    "    for _ in range(n_layers):\n",
    "        if batch_norm:\n",
    "            x = tf.keras.layers.BatchNormalization()(x)\n",
    "        x = tf.keras.layers.Dense(\n",
    "            layer_size,\n",
    "            kernel_initializer=\"he_uniform\",\n",
    "            kernel_regularizer=regularization and keras.regularizers.l1_l2(*regularization),\n",
    "        )(x)\n",
    "        x = tf.keras.layers.LeakyReLU()(x)\n",
    "        x = tf.keras.layers.Dropout(dropout_rate)(x)\n",
    "\n",
    "    x = tf.keras.layers.Dense(1, activation=\"sigmoid\")(x)\n",
    "    \n",
    "    return tf.keras.Model(inputs=inputs, outputs=x)"
   ]
  },
  {
   "cell_type": "code",
   "execution_count": 113,
   "metadata": {},
   "outputs": [],
   "source": [
    "embedding_model = make_embedding_model(\n",
    "    cat_feature_dims,\n",
    "    len(cont_cols),\n",
    "    n_classes=2,\n",
    "    layer_size=64,\n",
    "    dropout_rate=0.0,\n",
    "    n_layers=2,\n",
    "    regularization=None,\n",
    "    batch_norm=True,\n",
    ")"
   ]
  },
  {
   "cell_type": "code",
   "execution_count": 114,
   "metadata": {},
   "outputs": [],
   "source": [
    "embedding_model.compile(\n",
    "    optimizer=tf.keras.optimizers.Adam(1e-3),\n",
    "    loss=tf.keras.losses.binary_crossentropy,\n",
    "    metrics=[\n",
    "        tf.keras.metrics.BinaryAccuracy(),\n",
    "    ],\n",
    ")"
   ]
  },
  {
   "cell_type": "code",
   "execution_count": 115,
   "metadata": {},
   "outputs": [],
   "source": [
    "emb_train_data = [train_data_nn[x] for x in train_data_nn[cat_cols]] + [train_data_nn[cont_cols]]\n",
    "emb_test_data = [test_data_nn[x] for x in test_data_nn[cat_cols]] + [test_data_nn[cont_cols]]"
   ]
  },
  {
   "cell_type": "code",
   "execution_count": 116,
   "metadata": {},
   "outputs": [
    {
     "name": "stderr",
     "output_type": "stream",
     "text": [
      "/usr/local/lib/python3.6/dist-packages/tensorflow/python/framework/indexed_slices.py:414: UserWarning: Converting sparse IndexedSlices to a dense Tensor of unknown shape. This may consume a large amount of memory.\n",
      "  \"Converting sparse IndexedSlices to a dense Tensor of unknown shape. \"\n",
      "/usr/local/lib/python3.6/dist-packages/tensorflow/python/framework/indexed_slices.py:414: UserWarning: Converting sparse IndexedSlices to a dense Tensor of unknown shape. This may consume a large amount of memory.\n",
      "  \"Converting sparse IndexedSlices to a dense Tensor of unknown shape. \"\n",
      "/usr/local/lib/python3.6/dist-packages/tensorflow/python/framework/indexed_slices.py:414: UserWarning: Converting sparse IndexedSlices to a dense Tensor of unknown shape. This may consume a large amount of memory.\n",
      "  \"Converting sparse IndexedSlices to a dense Tensor of unknown shape. \"\n",
      "/usr/local/lib/python3.6/dist-packages/tensorflow/python/framework/indexed_slices.py:414: UserWarning: Converting sparse IndexedSlices to a dense Tensor of unknown shape. This may consume a large amount of memory.\n",
      "  \"Converting sparse IndexedSlices to a dense Tensor of unknown shape. \"\n",
      "/usr/local/lib/python3.6/dist-packages/tensorflow/python/framework/indexed_slices.py:414: UserWarning: Converting sparse IndexedSlices to a dense Tensor of unknown shape. This may consume a large amount of memory.\n",
      "  \"Converting sparse IndexedSlices to a dense Tensor of unknown shape. \"\n"
     ]
    },
    {
     "name": "stdout",
     "output_type": "stream",
     "text": [
      "Train on 534 samples, validate on 134 samples\n",
      "Epoch 1/100\n",
      "534/534 [==============================] - 2s 4ms/sample - loss: 1.0284 - binary_accuracy: 0.6667 - val_loss: 0.9463 - val_binary_accuracy: 0.6642\n",
      "Epoch 2/100\n",
      "534/534 [==============================] - 0s 262us/sample - loss: 0.8001 - binary_accuracy: 0.7584 - val_loss: 0.8481 - val_binary_accuracy: 0.6866\n",
      "Epoch 3/100\n",
      "534/534 [==============================] - 0s 231us/sample - loss: 0.6719 - binary_accuracy: 0.8202 - val_loss: 0.7939 - val_binary_accuracy: 0.7015\n",
      "Epoch 4/100\n",
      "534/534 [==============================] - 0s 228us/sample - loss: 0.5915 - binary_accuracy: 0.8333 - val_loss: 0.7504 - val_binary_accuracy: 0.6866\n",
      "Epoch 5/100\n",
      "534/534 [==============================] - 0s 231us/sample - loss: 0.5279 - binary_accuracy: 0.8408 - val_loss: 0.7228 - val_binary_accuracy: 0.6716\n",
      "Epoch 6/100\n",
      "534/534 [==============================] - 0s 227us/sample - loss: 0.4933 - binary_accuracy: 0.8521 - val_loss: 0.7034 - val_binary_accuracy: 0.6791\n",
      "Epoch 7/100\n",
      "534/534 [==============================] - 0s 264us/sample - loss: 0.4566 - binary_accuracy: 0.8502 - val_loss: 0.6818 - val_binary_accuracy: 0.6940\n",
      "Epoch 8/100\n",
      "534/534 [==============================] - 0s 251us/sample - loss: 0.4350 - binary_accuracy: 0.8577 - val_loss: 0.6668 - val_binary_accuracy: 0.7015\n",
      "Epoch 9/100\n",
      "534/534 [==============================] - 0s 232us/sample - loss: 0.4138 - binary_accuracy: 0.8727 - val_loss: 0.6565 - val_binary_accuracy: 0.6940\n",
      "Epoch 10/100\n",
      "534/534 [==============================] - 0s 239us/sample - loss: 0.3981 - binary_accuracy: 0.8764 - val_loss: 0.6523 - val_binary_accuracy: 0.7164\n",
      "Epoch 11/100\n",
      "534/534 [==============================] - 0s 300us/sample - loss: 0.3818 - binary_accuracy: 0.8764 - val_loss: 0.6472 - val_binary_accuracy: 0.7015\n",
      "Epoch 12/100\n",
      "534/534 [==============================] - 0s 168us/sample - loss: 0.3854 - binary_accuracy: 0.8708 - val_loss: 0.6497 - val_binary_accuracy: 0.7164\n",
      "Epoch 13/100\n",
      "534/534 [==============================] - 0s 250us/sample - loss: 0.3670 - binary_accuracy: 0.8876 - val_loss: 0.6463 - val_binary_accuracy: 0.7090\n",
      "Epoch 14/100\n",
      "534/534 [==============================] - 0s 255us/sample - loss: 0.3656 - binary_accuracy: 0.8783 - val_loss: 0.6407 - val_binary_accuracy: 0.7015\n",
      "Epoch 15/100\n",
      "534/534 [==============================] - 0s 246us/sample - loss: 0.3510 - binary_accuracy: 0.8839 - val_loss: 0.6352 - val_binary_accuracy: 0.7239\n",
      "Epoch 16/100\n",
      "534/534 [==============================] - 0s 232us/sample - loss: 0.3503 - binary_accuracy: 0.8858 - val_loss: 0.6336 - val_binary_accuracy: 0.7164\n",
      "Epoch 17/100\n",
      "534/534 [==============================] - 0s 131us/sample - loss: 0.3550 - binary_accuracy: 0.8820 - val_loss: 0.6453 - val_binary_accuracy: 0.7090\n",
      "Epoch 18/100\n",
      "534/534 [==============================] - 0s 137us/sample - loss: 0.3330 - binary_accuracy: 0.8876 - val_loss: 0.6390 - val_binary_accuracy: 0.7090\n",
      "Epoch 19/100\n",
      "534/534 [==============================] - 0s 139us/sample - loss: 0.3401 - binary_accuracy: 0.8876 - val_loss: 0.6369 - val_binary_accuracy: 0.7239\n",
      "Epoch 20/100\n",
      "534/534 [==============================] - 0s 132us/sample - loss: 0.3386 - binary_accuracy: 0.8914 - val_loss: 0.6385 - val_binary_accuracy: 0.7313\n",
      "Epoch 21/100\n",
      "534/534 [==============================] - 0s 125us/sample - loss: 0.3315 - binary_accuracy: 0.8895 - val_loss: 0.6429 - val_binary_accuracy: 0.7239\n",
      "Epoch 22/100\n",
      "534/534 [==============================] - 0s 123us/sample - loss: 0.3359 - binary_accuracy: 0.8858 - val_loss: 0.6500 - val_binary_accuracy: 0.7090\n",
      "Epoch 23/100\n",
      "534/534 [==============================] - 0s 119us/sample - loss: 0.3245 - binary_accuracy: 0.9064 - val_loss: 0.6397 - val_binary_accuracy: 0.7313\n",
      "Epoch 24/100\n",
      "534/534 [==============================] - 0s 124us/sample - loss: 0.3223 - binary_accuracy: 0.8820 - val_loss: 0.6384 - val_binary_accuracy: 0.7313\n",
      "Epoch 25/100\n",
      "534/534 [==============================] - 0s 127us/sample - loss: 0.3167 - binary_accuracy: 0.8933 - val_loss: 0.6422 - val_binary_accuracy: 0.7090\n",
      "Epoch 26/100\n",
      "534/534 [==============================] - 0s 142us/sample - loss: 0.3069 - binary_accuracy: 0.8970 - val_loss: 0.6464 - val_binary_accuracy: 0.7015\n",
      "Epoch 27/100\n",
      "534/534 [==============================] - 0s 155us/sample - loss: 0.3178 - binary_accuracy: 0.8970 - val_loss: 0.6484 - val_binary_accuracy: 0.6940\n",
      "Epoch 28/100\n",
      "534/534 [==============================] - 0s 144us/sample - loss: 0.3050 - binary_accuracy: 0.8970 - val_loss: 0.6449 - val_binary_accuracy: 0.7015\n",
      "Epoch 29/100\n",
      "534/534 [==============================] - 0s 132us/sample - loss: 0.3033 - binary_accuracy: 0.8933 - val_loss: 0.6389 - val_binary_accuracy: 0.7015\n",
      "Epoch 30/100\n",
      "534/534 [==============================] - 0s 123us/sample - loss: 0.3061 - binary_accuracy: 0.8933 - val_loss: 0.6369 - val_binary_accuracy: 0.7015\n",
      "Epoch 31/100\n",
      "534/534 [==============================] - 0s 112us/sample - loss: 0.3074 - binary_accuracy: 0.8839 - val_loss: 0.6339 - val_binary_accuracy: 0.7015\n",
      "Epoch 32/100\n",
      "534/534 [==============================] - 0s 148us/sample - loss: 0.3015 - binary_accuracy: 0.8933 - val_loss: 0.6346 - val_binary_accuracy: 0.7090\n",
      "Epoch 33/100\n",
      "534/534 [==============================] - 0s 225us/sample - loss: 0.3021 - binary_accuracy: 0.9045 - val_loss: 0.6319 - val_binary_accuracy: 0.7090\n",
      "Epoch 34/100\n",
      "534/534 [==============================] - 0s 115us/sample - loss: 0.3045 - binary_accuracy: 0.8951 - val_loss: 0.6325 - val_binary_accuracy: 0.7090\n",
      "Epoch 35/100\n",
      "534/534 [==============================] - 0s 125us/sample - loss: 0.2932 - binary_accuracy: 0.9007 - val_loss: 0.6324 - val_binary_accuracy: 0.7090\n",
      "Epoch 36/100\n",
      "534/534 [==============================] - 0s 123us/sample - loss: 0.2956 - binary_accuracy: 0.9007 - val_loss: 0.6379 - val_binary_accuracy: 0.7164\n",
      "Epoch 37/100\n",
      "534/534 [==============================] - 0s 121us/sample - loss: 0.3036 - binary_accuracy: 0.8989 - val_loss: 0.6450 - val_binary_accuracy: 0.6940\n",
      "Epoch 38/100\n",
      "534/534 [==============================] - 0s 124us/sample - loss: 0.3036 - binary_accuracy: 0.8951 - val_loss: 0.6369 - val_binary_accuracy: 0.7090\n",
      "Epoch 39/100\n",
      "534/534 [==============================] - 0s 139us/sample - loss: 0.2921 - binary_accuracy: 0.9007 - val_loss: 0.6356 - val_binary_accuracy: 0.7090\n",
      "Epoch 40/100\n",
      "534/534 [==============================] - 0s 127us/sample - loss: 0.2954 - binary_accuracy: 0.8933 - val_loss: 0.6368 - val_binary_accuracy: 0.7090\n",
      "Epoch 41/100\n",
      "534/534 [==============================] - 0s 141us/sample - loss: 0.2889 - binary_accuracy: 0.9026 - val_loss: 0.6399 - val_binary_accuracy: 0.7090\n",
      "Epoch 42/100\n",
      "534/534 [==============================] - 0s 112us/sample - loss: 0.3019 - binary_accuracy: 0.8914 - val_loss: 0.6373 - val_binary_accuracy: 0.7090\n",
      "Epoch 43/100\n",
      "534/534 [==============================] - 0s 165us/sample - loss: 0.3062 - binary_accuracy: 0.8951 - val_loss: 0.6395 - val_binary_accuracy: 0.7164\n",
      "Epoch 44/100\n",
      "534/534 [==============================] - 0s 181us/sample - loss: 0.3047 - binary_accuracy: 0.8858 - val_loss: 0.6379 - val_binary_accuracy: 0.7164\n",
      "Epoch 45/100\n",
      "534/534 [==============================] - 0s 192us/sample - loss: 0.2934 - binary_accuracy: 0.8951 - val_loss: 0.6367 - val_binary_accuracy: 0.7313\n",
      "Epoch 46/100\n",
      "534/534 [==============================] - 0s 178us/sample - loss: 0.2965 - binary_accuracy: 0.8933 - val_loss: 0.6352 - val_binary_accuracy: 0.7463\n",
      "Epoch 47/100\n",
      "534/534 [==============================] - 0s 173us/sample - loss: 0.2953 - binary_accuracy: 0.8970 - val_loss: 0.6332 - val_binary_accuracy: 0.7463\n",
      "Epoch 48/100\n",
      "534/534 [==============================] - 0s 147us/sample - loss: 0.2945 - binary_accuracy: 0.8933 - val_loss: 0.6322 - val_binary_accuracy: 0.7463\n",
      "Epoch 49/100\n",
      "534/534 [==============================] - 0s 273us/sample - loss: 0.2908 - binary_accuracy: 0.8989 - val_loss: 0.6312 - val_binary_accuracy: 0.7388\n",
      "Epoch 50/100\n",
      "534/534 [==============================] - 0s 227us/sample - loss: 0.2840 - binary_accuracy: 0.9045 - val_loss: 0.6298 - val_binary_accuracy: 0.7388\n",
      "Epoch 51/100\n"
     ]
    },
    {
     "name": "stdout",
     "output_type": "stream",
     "text": [
      "534/534 [==============================] - 0s 240us/sample - loss: 0.2900 - binary_accuracy: 0.9064 - val_loss: 0.6242 - val_binary_accuracy: 0.7463\n",
      "Epoch 52/100\n",
      "534/534 [==============================] - 0s 221us/sample - loss: 0.2724 - binary_accuracy: 0.9045 - val_loss: 0.6216 - val_binary_accuracy: 0.7463\n",
      "Epoch 53/100\n",
      "534/534 [==============================] - 0s 209us/sample - loss: 0.2884 - binary_accuracy: 0.8989 - val_loss: 0.6200 - val_binary_accuracy: 0.7388\n",
      "Epoch 54/100\n",
      "534/534 [==============================] - 0s 199us/sample - loss: 0.2905 - binary_accuracy: 0.9026 - val_loss: 0.6181 - val_binary_accuracy: 0.7463\n",
      "Epoch 55/100\n",
      "534/534 [==============================] - 0s 217us/sample - loss: 0.2879 - binary_accuracy: 0.8951 - val_loss: 0.6170 - val_binary_accuracy: 0.7463\n",
      "Epoch 56/100\n",
      "534/534 [==============================] - 0s 111us/sample - loss: 0.2896 - binary_accuracy: 0.9026 - val_loss: 0.6184 - val_binary_accuracy: 0.7463\n",
      "Epoch 57/100\n",
      "534/534 [==============================] - 0s 195us/sample - loss: 0.3053 - binary_accuracy: 0.8970 - val_loss: 0.6161 - val_binary_accuracy: 0.7463\n",
      "Epoch 58/100\n",
      "534/534 [==============================] - 0s 222us/sample - loss: 0.2905 - binary_accuracy: 0.9045 - val_loss: 0.6139 - val_binary_accuracy: 0.7388\n",
      "Epoch 59/100\n",
      "534/534 [==============================] - 0s 213us/sample - loss: 0.2940 - binary_accuracy: 0.8970 - val_loss: 0.6105 - val_binary_accuracy: 0.7537\n",
      "Epoch 60/100\n",
      "534/534 [==============================] - 0s 214us/sample - loss: 0.2821 - binary_accuracy: 0.9101 - val_loss: 0.6057 - val_binary_accuracy: 0.7463\n",
      "Epoch 61/100\n",
      "534/534 [==============================] - 0s 254us/sample - loss: 0.2867 - binary_accuracy: 0.8951 - val_loss: 0.6011 - val_binary_accuracy: 0.7388\n",
      "Epoch 62/100\n",
      "534/534 [==============================] - 0s 203us/sample - loss: 0.2890 - binary_accuracy: 0.8914 - val_loss: 0.5970 - val_binary_accuracy: 0.7537\n",
      "Epoch 63/100\n",
      "534/534 [==============================] - 0s 220us/sample - loss: 0.2879 - binary_accuracy: 0.8970 - val_loss: 0.5927 - val_binary_accuracy: 0.7612\n",
      "Epoch 64/100\n",
      "534/534 [==============================] - 0s 216us/sample - loss: 0.2787 - binary_accuracy: 0.9026 - val_loss: 0.5916 - val_binary_accuracy: 0.7612\n",
      "Epoch 65/100\n",
      "534/534 [==============================] - 0s 209us/sample - loss: 0.2826 - binary_accuracy: 0.9045 - val_loss: 0.5898 - val_binary_accuracy: 0.7537\n",
      "Epoch 66/100\n",
      "534/534 [==============================] - 0s 105us/sample - loss: 0.2840 - binary_accuracy: 0.8895 - val_loss: 0.5898 - val_binary_accuracy: 0.7537\n",
      "Epoch 67/100\n",
      "534/534 [==============================] - 0s 216us/sample - loss: 0.2944 - binary_accuracy: 0.8933 - val_loss: 0.5860 - val_binary_accuracy: 0.7463\n",
      "Epoch 68/100\n",
      "534/534 [==============================] - 0s 215us/sample - loss: 0.2898 - binary_accuracy: 0.8914 - val_loss: 0.5831 - val_binary_accuracy: 0.7537\n",
      "Epoch 69/100\n",
      "534/534 [==============================] - 0s 226us/sample - loss: 0.2820 - binary_accuracy: 0.9082 - val_loss: 0.5798 - val_binary_accuracy: 0.7612\n",
      "Epoch 70/100\n",
      "534/534 [==============================] - 0s 219us/sample - loss: 0.2899 - binary_accuracy: 0.8970 - val_loss: 0.5759 - val_binary_accuracy: 0.7612\n",
      "Epoch 71/100\n",
      "534/534 [==============================] - 0s 215us/sample - loss: 0.2918 - binary_accuracy: 0.8970 - val_loss: 0.5740 - val_binary_accuracy: 0.7612\n",
      "Epoch 72/100\n",
      "534/534 [==============================] - 0s 123us/sample - loss: 0.2880 - binary_accuracy: 0.8951 - val_loss: 0.5745 - val_binary_accuracy: 0.7537\n",
      "Epoch 73/100\n",
      "534/534 [==============================] - 0s 124us/sample - loss: 0.2854 - binary_accuracy: 0.8951 - val_loss: 0.5743 - val_binary_accuracy: 0.7537\n",
      "Epoch 74/100\n",
      "534/534 [==============================] - 0s 214us/sample - loss: 0.2997 - binary_accuracy: 0.8989 - val_loss: 0.5728 - val_binary_accuracy: 0.7612\n",
      "Epoch 75/100\n",
      "534/534 [==============================] - 0s 122us/sample - loss: 0.2790 - binary_accuracy: 0.8970 - val_loss: 0.5734 - val_binary_accuracy: 0.7463\n",
      "Epoch 76/100\n",
      "534/534 [==============================] - 0s 136us/sample - loss: 0.2822 - binary_accuracy: 0.9082 - val_loss: 0.5741 - val_binary_accuracy: 0.7463\n",
      "Epoch 77/100\n",
      "534/534 [==============================] - 0s 130us/sample - loss: 0.2815 - binary_accuracy: 0.9007 - val_loss: 0.5751 - val_binary_accuracy: 0.7537\n",
      "Epoch 78/100\n",
      "534/534 [==============================] - 0s 113us/sample - loss: 0.2766 - binary_accuracy: 0.9045 - val_loss: 0.5738 - val_binary_accuracy: 0.7388\n",
      "Epoch 79/100\n",
      "534/534 [==============================] - 0s 233us/sample - loss: 0.2886 - binary_accuracy: 0.8951 - val_loss: 0.5722 - val_binary_accuracy: 0.7388\n",
      "Epoch 80/100\n",
      "534/534 [==============================] - 0s 235us/sample - loss: 0.2911 - binary_accuracy: 0.8858 - val_loss: 0.5721 - val_binary_accuracy: 0.7463\n",
      "Epoch 81/100\n",
      "534/534 [==============================] - 0s 227us/sample - loss: 0.2824 - binary_accuracy: 0.9045 - val_loss: 0.5697 - val_binary_accuracy: 0.7463\n",
      "Epoch 82/100\n",
      "534/534 [==============================] - 0s 210us/sample - loss: 0.2863 - binary_accuracy: 0.9082 - val_loss: 0.5680 - val_binary_accuracy: 0.7463\n",
      "Epoch 83/100\n",
      "534/534 [==============================] - 0s 225us/sample - loss: 0.2942 - binary_accuracy: 0.8933 - val_loss: 0.5672 - val_binary_accuracy: 0.7537\n",
      "Epoch 84/100\n",
      "534/534 [==============================] - 0s 220us/sample - loss: 0.2870 - binary_accuracy: 0.8951 - val_loss: 0.5652 - val_binary_accuracy: 0.7537\n",
      "Epoch 85/100\n",
      "534/534 [==============================] - 0s 248us/sample - loss: 0.2808 - binary_accuracy: 0.9026 - val_loss: 0.5630 - val_binary_accuracy: 0.7537\n",
      "Epoch 86/100\n",
      "534/534 [==============================] - 0s 220us/sample - loss: 0.2913 - binary_accuracy: 0.8989 - val_loss: 0.5602 - val_binary_accuracy: 0.7537\n",
      "Epoch 87/100\n",
      "534/534 [==============================] - 0s 157us/sample - loss: 0.2809 - binary_accuracy: 0.9026 - val_loss: 0.5604 - val_binary_accuracy: 0.7537\n",
      "Epoch 88/100\n",
      "534/534 [==============================] - 0s 139us/sample - loss: 0.2763 - binary_accuracy: 0.9007 - val_loss: 0.5602 - val_binary_accuracy: 0.7612\n",
      "Epoch 89/100\n",
      "534/534 [==============================] - 0s 233us/sample - loss: 0.2835 - binary_accuracy: 0.8914 - val_loss: 0.5595 - val_binary_accuracy: 0.7612\n",
      "Epoch 90/100\n",
      "534/534 [==============================] - 0s 146us/sample - loss: 0.2824 - binary_accuracy: 0.9026 - val_loss: 0.5606 - val_binary_accuracy: 0.7612\n",
      "Epoch 91/100\n",
      "534/534 [==============================] - 0s 312us/sample - loss: 0.2985 - binary_accuracy: 0.8989 - val_loss: 0.5589 - val_binary_accuracy: 0.7612\n",
      "Epoch 92/100\n",
      "534/534 [==============================] - 0s 290us/sample - loss: 0.2721 - binary_accuracy: 0.9101 - val_loss: 0.5581 - val_binary_accuracy: 0.7612\n",
      "Epoch 93/100\n",
      "534/534 [==============================] - 0s 120us/sample - loss: 0.2931 - binary_accuracy: 0.8970 - val_loss: 0.5596 - val_binary_accuracy: 0.7612\n",
      "Epoch 94/100\n",
      "534/534 [==============================] - 0s 155us/sample - loss: 0.2799 - binary_accuracy: 0.9082 - val_loss: 0.5591 - val_binary_accuracy: 0.7612\n",
      "Epoch 95/100\n",
      "534/534 [==============================] - 0s 135us/sample - loss: 0.2723 - binary_accuracy: 0.8951 - val_loss: 0.5614 - val_binary_accuracy: 0.7537\n",
      "Epoch 96/100\n",
      "534/534 [==============================] - 0s 124us/sample - loss: 0.2746 - binary_accuracy: 0.9101 - val_loss: 0.5608 - val_binary_accuracy: 0.7612\n",
      "Epoch 97/100\n",
      "534/534 [==============================] - 0s 146us/sample - loss: 0.2732 - binary_accuracy: 0.8989 - val_loss: 0.5605 - val_binary_accuracy: 0.7537\n",
      "Epoch 98/100\n",
      "534/534 [==============================] - 0s 130us/sample - loss: 0.2872 - binary_accuracy: 0.8895 - val_loss: 0.5613 - val_binary_accuracy: 0.7537\n",
      "Epoch 99/100\n",
      "534/534 [==============================] - 0s 159us/sample - loss: 0.2730 - binary_accuracy: 0.8970 - val_loss: 0.5606 - val_binary_accuracy: 0.7612\n",
      "Epoch 100/100\n",
      "534/534 [==============================] - 0s 140us/sample - loss: 0.2732 - binary_accuracy: 0.9064 - val_loss: 0.5610 - val_binary_accuracy: 0.7612\n"
     ]
    }
   ],
   "source": [
    "PATIENCE = 10\n",
    "\n",
    "embedding_model_history = embedding_model.fit(\n",
    "    emb_train_data,\n",
    "    train_labels_nn,\n",
    "    validation_split=0.2,\n",
    "    batch_size=64,\n",
    "    epochs=100,\n",
    "    callbacks=[\n",
    "        tf.keras.callbacks.ModelCheckpoint(str('./embedding_model.h5'), save_best_only=True),\n",
    "        tf.keras.callbacks.ReduceLROnPlateau(factor=0.3, patience=PATIENCE),\n",
    "        tf.keras.callbacks.EarlyStopping(patience=PATIENCE * 3, restore_best_weights=True),\n",
    "        tf.keras.callbacks.TensorBoard(log_dir=str('./embedding_model_logs')),\n",
    "    ],\n",
    ")"
   ]
  },
  {
   "cell_type": "code",
   "execution_count": 117,
   "metadata": {},
   "outputs": [],
   "source": [
    "def plot_history(history, contains, skip=0):\n",
    "    df = pd.DataFrame(history.history)\n",
    "    df[list(df.filter(regex=contains))].iloc[skip:].plot()"
   ]
  },
  {
   "cell_type": "code",
   "execution_count": 118,
   "metadata": {},
   "outputs": [
    {
     "data": {
      "image/png": "[encoded data removed]",
      "text/plain": [
       "<Figure size 432x288 with 1 Axes>"
      ]
     },
     "metadata": {},
     "output_type": "display_data"
    }
   ],
   "source": [
    "plot_history(embedding_model_history, 'loss', 2)"
   ]
  },
  {
   "cell_type": "code",
   "execution_count": 119,
   "metadata": {},
   "outputs": [
    {
     "name": "stdout",
     "output_type": "stream",
     "text": [
      "223/223 [==============================] - 0s 2ms/sample - loss: 0.4058 - binary_accuracy: 0.8386\n"
     ]
    },
    {
     "data": {
      "text/plain": [
       "[0.40584369464840053, 0.83856505]"
      ]
     },
     "execution_count": 119,
     "metadata": {},
     "output_type": "execute_result"
    }
   ],
   "source": [
    "embedding_model.evaluate(emb_test_data, test_labels_nn)"
   ]
  },
  {
   "cell_type": "markdown",
   "metadata": {},
   "source": [
    "# Submission"
   ]
  },
  {
   "cell_type": "code",
   "execution_count": 120,
   "metadata": {},
   "outputs": [],
   "source": [
    "def prepare_submission(preds):\n",
    "    submission = pd.DataFrame()\n",
    "    submission['PassengerId'] = df_submission.PassengerId\n",
    "    submission['Survived'] = preds\n",
    "    return submission"
   ]
  },
  {
   "cell_type": "code",
   "execution_count": 121,
   "metadata": {},
   "outputs": [],
   "source": [
    "rfc_sub = prepare_submission(rfc.predict(df_sub_label_enc.drop('PassengerId', ax"
   ]
  },
  {
   "cell_type": "code",
   "execution_count": 122,
   "metadata": {},
   "outputs": [],
   "source": [
    "rfc_sub.to_csv('rfc.csv', index=False)"
   ]
  },
  {
   "cell_type": "code",
   "execution_count": null,
   "metadata": {},
   "outputs": [],
   "source": []
  },
  {
   "cell_type": "code",
   "execution_count": null,
   "metadata": {},
   "outputs": [],
   "source": []
  }
 ],
 "metadata": {
  "kernelspec": {
   "display_name": "Python 3",
   "language": "python",
   "name": "python3"
  },
  "language_info": {
   "codemirror_mode": {
    "name": "ipython",
    "version": 3
   },
   "file_extension": ".py",
   "mimetype": "text/x-python",
   "name": "python",
   "nbconvert_exporter": "python",
   "pygments_lexer": "ipython3",
   "version": "3.6.8"
  }
 },
 "nbformat": 4,
 "nbformat_minor": 2
}
